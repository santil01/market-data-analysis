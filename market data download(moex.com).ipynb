{
 "cells": [
  {
   "cell_type": "code",
   "execution_count": null,
   "metadata": {},
   "outputs": [],
   "source": [
    "import requests, bs4\n",
    "import pandas as pd\n",
    "# Вводим тикер актива и даты начала и конца.\n",
    "TICKER = 'SBER'\n",
    "DATE_FROM = '2013-03-25'\n",
    "DATE_TILL = '2018-08-15'\n",
    "start = 0\n",
    "hlocv = []\n",
    "while True:\n",
    "    # Собираем информацию об инструменте, для запроса рыночных данных.\n",
    "    ticker_info = requests.get('http://iss.moex.com/iss/securities.xml?q=%s' % (TICKER)).text\n",
    "    ticker_info = bs4.BeautifulSoup(ticker_info, 'html.parser') \n",
    "    ticker_info = ticker_info.find('rows').find('row', {'secid': '%s' % (TICKER)})\n",
    "    engine = ticker_info.get('group').split('_')[0]\n",
    "    market = ticker_info.get('group').split('_')[1]\n",
    "    board = ticker_info.get('primary_boardid')\n",
    "    # Запрашиваем маркет дату.\n",
    "    items = requests.get('http://iss.moex.com/iss/history/engines/%s/markets/%s/boards/%s/securities/%s/candles.xml?from=%s&till=%s&interval=0&start=%d' % (engine, market, board, TICKER, DATE_FROM, DATE_TILL, start)).text\n",
    "    items = bs4.BeautifulSoup(items, 'html.parser') \n",
    "    items = items.find('rows').find_all('row')\n",
    "    # Составляем словарь из параметров торгового дня и формируем один большой список из всех дней диапазона дат.\n",
    "    for i in items:\n",
    "        date = i.get('tradedate')\n",
    "        open_p = i.get('open')\n",
    "        high = i.get('high')\n",
    "        low = i.get('low')\n",
    "        close = i.get('close')\n",
    "        volume = i.get('volume')\n",
    "        hlocv.append({'date': date, 'open': open_p, 'high': high, 'low': low, 'close': close, 'volume': volume })\n",
    "    # Проверяем является ли дата последнего торгового дня в выдаче конечной датой нашего интервала.    \n",
    "    if items[-1].get('tradedate') != DATE_TILL:\n",
    "        # Если нет, то загружаем еще\n",
    "        start +=len(items)\n",
    "    else:\n",
    "        break\n",
    "# формируем датафрейм\n",
    "df = pd.DataFrame(hlocv, columns = ['date','open', 'high', 'low', 'close', 'volume'])\n",
    "df"
   ]
  }
 ],
 "metadata": {
  "kernelspec": {
   "display_name": "Python 3",
   "language": "python",
   "name": "python3"
  },
  "language_info": {
   "codemirror_mode": {
    "name": "ipython",
    "version": 3
   },
   "file_extension": ".py",
   "mimetype": "text/x-python",
   "name": "python",
   "nbconvert_exporter": "python",
   "pygments_lexer": "ipython3",
   "version": "3.6.4"
  }
 },
 "nbformat": 4,
 "nbformat_minor": 2
}
